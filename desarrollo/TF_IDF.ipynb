{
 "cells": [
  {
   "cell_type": "code",
   "execution_count": 2,
   "id": "99326de8",
   "metadata": {},
   "outputs": [],
   "source": [
    "from collections import defaultdict\n",
    "import numpy as np\n",
    "import math"
   ]
  },
  {
   "cell_type": "markdown",
   "id": "96f48fc3",
   "metadata": {},
   "source": [
    "funcion xxxxx: Recibe el corpus y devuelve un nuevo diccionario que tiene como claves principales los nombres de las carpetas\n",
    "y almacena otro diccionario que como clave tiene el nombre del archivo y elemento alamcenado las palabras totales.\n",
    "\n",
    "funcion vector_palabras_total: Recibe el diccionario de palabras unicas por carpeta y documentos y devuelve una lista con las palabras totales de todas las carpetas y documentos.\n"
   ]
  },
  {
   "cell_type": "code",
   "execution_count": 3,
   "id": "2434d109",
   "metadata": {},
   "outputs": [],
   "source": [
    "def vector_palabras_totales(corpus: dict[str, dict[str, list[str]]]):\n",
    "    lista_pal_totales = []\n",
    "\n",
    "    for carpeta, documentos in corpus.items():\n",
    "        for nombre_documento, lista_palabras in documentos.items():\n",
    "            for palabra in lista_palabras[0]:\n",
    "                if palabra not in lista_pal_totales:\n",
    "                    lista_pal_totales.append(palabra)\n",
    "    \n",
    "    return lista_pal_totales\n",
    "    "
   ]
  },
  {
   "cell_type": "markdown",
   "id": "a6e99690",
   "metadata": {},
   "source": [
    "funcion Term_Frecuency: Encarga de contar cuantas veces esta una palabra en el corpus de un documento y los divide por el numero de palabras de cada documento. Como parámetros recibe el vector de palabras totales\n",
    "que corresponden a las palabras del corpus total y el corpus mismo, este incluye tanto stopwords como palabras validas."
   ]
  },
  {
   "cell_type": "code",
   "execution_count": 1,
   "id": "42b11bd1",
   "metadata": {},
   "outputs": [],
   "source": [
    "def term_frecuency(vector_tol: list[str], corpus: dict[str, dict[str, list[str]]],dicc_pal_uni_texto:dict[str, dict[str, list[str]]]):\n",
    "    #Cantidad de veces que aparece cada palabra en el documento X\n",
    "    #vector_tol: list[str], corpus: dict[str, dict[str, list[str]]],dicc_pal_uni__texto:dict[str, dict[str, list[str]]]\n",
    "    diccionario_num_pal = defaultdict(lambda:defaultdict(list))\n",
    "   \n",
    "    #cantidad de veces que aparece cada palabra en el documento X\n",
    "    for carpeta, documento in dicc_pal_uni_texto.items():\n",
    "        for nombre_documento, vector_documento in documento.items():\n",
    "\n",
    "            lista_aux = [0] * len(vector_tol)\n",
    "            numero_palabras_documento = len(vector_documento[0])\n",
    "\n",
    "            for palabra in vector_documento[0]:\n",
    "                num_pal = 0\n",
    "                num_pal = corpus[carpeta][nombre_documento][0].count(palabra)\n",
    "                index = vector_tol.index(palabra)\n",
    "                lista_aux[index] = (num_pal / numero_palabras_documento)\n",
    "\n",
    "            diccionario_num_pal[carpeta][nombre_documento] = lista_aux\n",
    "    #diviendo ahora por el total de palabras de cada documento\n",
    "    '''\n",
    "    for carpeta, documento in diccionario_num_pal.items():\n",
    "        for nombre_documento, vector_documento in documento.items():\n",
    "            for indice\n",
    "    '''\n",
    "    return diccionario_num_pal\n",
    "    "
   ]
  },
  {
   "cell_type": "code",
   "execution_count": 5,
   "id": "a3feddea",
   "metadata": {},
   "outputs": [],
   "source": [
    "def num_pal_doc(dicc_pal_uni_texto:dict[str, dict[str, list[str]]], palabra:str):\n",
    "    num_doc = 0\n",
    "    for carpeta, documentos in dicc_pal_uni_texto.items():\n",
    "            for nombre_carpeta, lista_documentos in documentos.items():\n",
    "                if palabra in lista_documentos[0]:\n",
    "                    num_doc+=1\n",
    "    return num_doc"
   ]
  },
  {
   "cell_type": "markdown",
   "id": "5718e74a",
   "metadata": {},
   "source": [
    "funcion idf: idf(t)=log10(numero_total_documentos_corpus/numero de documentos que contiene el termino t + 1)"
   ]
  },
  {
   "cell_type": "code",
   "execution_count": 6,
   "id": "07b96eee",
   "metadata": {},
   "outputs": [],
   "source": [
    "def idf(vector_tol: list[str], corpus: dict[str, dict[str, list[str]]],dicc_pal_uni_texto:dict[str, dict[str, list[str]]]):\n",
    "    #número de documentos que contienen el término X\n",
    "    num_total_documentos = sum(len(documentos) for documentos in corpus.values())\n",
    "    lista_numero_documentos_palabra = [0] * len(vector_tol)\n",
    "    \n",
    "    for indice,palabra in enumerate(vector_tol):\n",
    "        num_doc = num_pal_doc(dicc_pal_uni_texto, palabra)\n",
    "        lista_numero_documentos_palabra[indice] = num_doc\n",
    "    #vector IDF\n",
    "    vector_idf = [0] * len(vector_tol)\n",
    "    for indice,num_doc in enumerate(lista_numero_documentos_palabra):\n",
    "        vector_idf[indice] = math.log10(num_total_documentos/(num_doc+1))\n",
    "    return vector_idf"
   ]
  },
  {
   "cell_type": "markdown",
   "id": "7c69ddb2",
   "metadata": {},
   "source": [
    "Funcion TF-IDF"
   ]
  },
  {
   "cell_type": "code",
   "execution_count": 1,
   "id": "e707c70d",
   "metadata": {},
   "outputs": [],
   "source": [
    "def tf_idf(vector_tol: list[str], corpus: dict[str, dict[str, list[str]]],dicc_pal_uni_texto:dict[str, dict[str, list[str]]]):\n",
    "    tf = term_frecuency(vector_tol, corpus, dicc_pal_uni_texto)\n",
    "    vector_idf = idf(vector_tol, corpus, dicc_pal_uni_texto)\n",
    "    dicc_vector_idf = defaultdict(lambda:defaultdict(list))\n",
    "    \n",
    "    for carpeta, documentos in tf.items():\n",
    "        for nombre_carpeta, lista_tf in documentos.items():\n",
    "            vector_tf_idf = [0] * len(vector_tol)\n",
    "            for indice, tf in enumerate(lista_tf):\n",
    "                vector_tf_idf[indice] = tf * vector_idf[indice]\n",
    "            dicc_vector_idf[carpeta][nombre_carpeta] = vector_tf_idf\n",
    "    \n",
    "    return dicc_vector_idf, vector_idf\n",
    "                \n",
    "    \n"
   ]
  }
 ],
 "metadata": {
  "kernelspec": {
   "display_name": "Python (laboratorio1)",
   "language": "python",
   "name": "laboratorio1"
  }
 },
 "nbformat": 4,
 "nbformat_minor": 5
}
