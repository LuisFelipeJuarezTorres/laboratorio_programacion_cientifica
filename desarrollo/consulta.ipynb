{
 "cells": [
  {
   "cell_type": "code",
   "execution_count": null,
   "id": "cd15a962",
   "metadata": {},
   "outputs": [],
   "source": [
    "from importnb import Notebook\n",
    "from collections import defaultdict\n",
    "\n",
    "with Notebook():\n",
    "    \n",
    "    import lectura_documentos as ld\n",
    "    import similitud_coseno as sc\n",
    "    "
   ]
  },
  {
   "cell_type": "markdown",
   "id": "99035ef8",
   "metadata": {},
   "source": [
    "función para prepara la consulta ya que la función presente en lectura_documentos se le pasa como parámetro una diccionario"
   ]
  },
  {
   "cell_type": "code",
   "execution_count": null,
   "id": "21d60a6b",
   "metadata": {},
   "outputs": [],
   "source": [
    "def preparacion_consulta(consulta:str):\n",
    "\n",
    "    texto = consulta.split()\n",
    "    consulta_actualizada = ld.get_tokens(texto)\n",
    "    return consulta_actualizada\n"
   ]
  },
  {
   "cell_type": "markdown",
   "id": "95f44ddf",
   "metadata": {},
   "source": [
    "funcion para obtener el vector tf de la consulta"
   ]
  },
  {
   "cell_type": "code",
   "execution_count": 2,
   "id": "6e5b67e5",
   "metadata": {},
   "outputs": [],
   "source": [
    "def tf_consulta(consulta:list, vector_pal_totales:list):\n",
    "    frecuencias = [0] * len(vector_pal_totales)\n",
    "    len_documento = len(consulta)\n",
    "    for palabras in consulta:\n",
    "        for indice,palabras_ in enumerate(vector_pal_totales):\n",
    "            if palabras == palabras_:\n",
    "                frecuencias[indice] += 1\n",
    "    tf_consulta = [0]*len(vector_pal_totales)\n",
    "    for indice,pal in enumerate(frecuencias):\n",
    "        tf_consulta[indice] = pal/len_documento\n",
    "    return tf_consulta\n",
    "\n",
    "    \n",
    "\n",
    "\n"
   ]
  },
  {
   "cell_type": "markdown",
   "id": "7cec73e0",
   "metadata": {},
   "source": [
    "función que devuelve el vector tf_idf de la consulta"
   ]
  },
  {
   "cell_type": "code",
   "execution_count": 1,
   "id": "bd626f1b",
   "metadata": {},
   "outputs": [],
   "source": [
    "def tf_idf(consulta:list, vector_pal_totales:list,vector_idf:list):\n",
    "    \n",
    "    vector_tf = tf_consulta(consulta,vector_pal_totales)\n",
    "    vector_tf_idf = [0]*len(vector_pal_totales)\n",
    "    \n",
    "    for indice,tf in enumerate(vector_tf):\n",
    "    \n",
    "        vector_tf_idf[indice] = tf * vector_idf[indice]\n",
    "    return vector_tf_idf\n"
   ]
  },
  {
   "cell_type": "markdown",
   "id": "c80741a5",
   "metadata": {},
   "source": [
    "funcion que devuelve los k vecinos mas cercanos (top 3) y se indica a que categoria pertenece. Si hay dos documentos de categoria 1 y uno de la categoria 2 se dice que el documento pertence a la categoria 1"
   ]
  },
  {
   "cell_type": "code",
   "execution_count": null,
   "id": "650f8c86",
   "metadata": {},
   "outputs": [],
   "source": [
    "def k_vecinos(dicc_sm:dict[str, dict[str, float]]):\n",
    "    lista = []\n",
    "    for carpeta, documentos in dicc_sm.items():\n",
    "        for doc, valor in documentos.items():\n",
    "            lista.append((carpeta,doc,valor))\n",
    "    \n",
    "    documentos_ordenados = sorted(lista,key = lambda x:x[2], reverse=True)\n",
    "    for carpeta, doc, val in documentos_ordenados:\n",
    "        print(f\"{carpeta}-{doc}: {val} \")\n",
    "\n",
    "    return documentos_ordenados\n",
    "\n",
    "    "
   ]
  },
  {
   "cell_type": "markdown",
   "id": "37187935",
   "metadata": {},
   "source": [
    "Elección a la categoria que pertenece el documento de consulta"
   ]
  },
  {
   "cell_type": "code",
   "execution_count": 3,
   "id": "aa2e2a1e",
   "metadata": {},
   "outputs": [],
   "source": [
    "def votacion_categoria(lista: list):\n",
    "    dicc_cantidad = defaultdict(int)\n",
    "    for carpeta, doc, val in lista[:3]:\n",
    "        dicc_cantidad[carpeta] += 1;\n",
    "    \n",
    "    categoria = False\n",
    "    \n",
    "    for carpeta, cantidad in dicc_cantidad.items():\n",
    "        if cantidad >= 2:\n",
    "            categoria = True\n",
    "            print(f\"El documento pertenece a la categoria: {carpeta} \")\n",
    "            break     \n",
    "    if categoria == False:\n",
    "        print(\"El documento no se acerca a ninguna categoria por votacion\")\n",
    "\n"
   ]
  },
  {
   "cell_type": "code",
   "execution_count": 1,
   "id": "e1717fd4",
   "metadata": {},
   "outputs": [],
   "source": [
    "def ingreso_consulta(vector_pal_totales:list[str], vector_idf:list,dicc_tf_idf:dict[str, dict[str, list[str]]]):\n",
    "    x = True\n",
    "    while x: \n",
    "        consulta = input(\"Ingrese su consulta/Escriba salir para terminar\")\n",
    "        \n",
    "        if consulta.lower() == 'salir':\n",
    "            x = False\n",
    "        else:  \n",
    "            consulta = preparacion_consulta(consulta)\n",
    "            tf_idf_consulta  = tf_idf(consulta,vector_pal_totales,vector_idf)\n",
    "            dicc_sim_coseno = sc.similitud_coseno(tf_idf_consulta, dicc_tf_idf)\n",
    "            ranking_documentos = k_vecinos(dicc_sim_coseno)\n",
    "            votacion_categoria(ranking_documentos)\n",
    "\n",
    "\n",
    "            \n",
    "        \n"
   ]
  },
  {
   "cell_type": "code",
   "execution_count": null,
   "id": "7f3a728e",
   "metadata": {},
   "outputs": [
    {
     "name": "stdout",
     "output_type": "stream",
     "text": [
      "['La', 'tecnología', 'avanza', 'ritmo', 'acelerado,', 'transformando', 'manera', 'vivimos,', 'trabajamos', 'comunicamos.', 'En', 'última', 'década,', 'inteligencia', 'artificial,', 'internet', 'cosas', 'computación', 'nube', 'han', 'revolucionado', 'industrias', 'completas.', 'Hoy', 'día,', 'datos', 'son', 'considerados', 'nuevo', 'petróleo,', 'análisis', 'permite', 'empresas', 'anticipar', 'tendencias,', 'mejorar', 'procesos', 'ofrecer', 'servicios', 'personalizados.', 'Sin', 'embargo,', 'progreso', 'plantea', 'desafíos', 'éticos,', 'privacidad,', 'seguridad', 'información', 'impacto', 'automatización', 'empleo.', 'clave', 'encontrar', 'equilibrio', 'innovación', 'tecnológica', 'bienestar', 'humano.']\n",
      "['salir']\n"
     ]
    }
   ],
   "source": []
  }
 ],
 "metadata": {
  "kernelspec": {
   "display_name": "Python (laboratorio1)",
   "language": "python",
   "name": "laboratorio1"
  }
 },
 "nbformat": 4,
 "nbformat_minor": 5
}
