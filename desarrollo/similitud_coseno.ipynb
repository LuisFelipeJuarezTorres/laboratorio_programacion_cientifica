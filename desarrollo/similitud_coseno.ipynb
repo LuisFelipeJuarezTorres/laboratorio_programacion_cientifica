{
 "cells": [
  {
   "cell_type": "code",
   "execution_count": 3,
   "id": "a41c15c1",
   "metadata": {},
   "outputs": [],
   "source": [
    "from collections import defaultdict\n",
    "import numpy as np\n",
    "import math"
   ]
  },
  {
   "cell_type": "markdown",
   "id": "5d9ff4a4",
   "metadata": {},
   "source": [
    "funcion para obtener el modelulo de un vector"
   ]
  },
  {
   "cell_type": "code",
   "execution_count": 4,
   "id": "a438a5bf",
   "metadata": {},
   "outputs": [],
   "source": [
    "def modulo(vector : list):\n",
    "    mod = 0\n",
    "    for num in vector:\n",
    "        mod += num**2\n",
    "    \n",
    "    return math.sqrt(mod)"
   ]
  },
  {
   "cell_type": "markdown",
   "id": "153c2483",
   "metadata": {},
   "source": [
    "funcion_producto_punto"
   ]
  },
  {
   "cell_type": "code",
   "execution_count": 5,
   "id": "90bc2266",
   "metadata": {},
   "outputs": [],
   "source": [
    "def producto_punto(vector1 : list, vector2 : list):\n",
    "    producto_punto = 0\n",
    "    for indice,num in enumerate(vector1):\n",
    "        producto_punto += vector1[indice]*vector2[indice]\n",
    "    return producto_punto"
   ]
  },
  {
   "cell_type": "code",
   "execution_count": 1,
   "id": "1b60e0a7",
   "metadata": {},
   "outputs": [],
   "source": [
    "def similitud_coseno(vector_tf_idf_consultas:list[float], dicc_tf_idf:dict[str, dict[str, list[float]]]):\n",
    "\n",
    "    dicc_similitud_coseno = defaultdict(lambda:defaultdict(float))\n",
    "    modulo_consulta = modulo(vector_tf_idf_consultas)\n",
    "\n",
    "    for carpeta, documentos in dicc_tf_idf.items():\n",
    "\n",
    "        for nombre_documento, vector_tf_idf in documentos.items():\n",
    "\n",
    "            modulo_doc = modulo(vector_tf_idf)\n",
    "            if modulo_doc == 0 or modulo_consulta == 0:\n",
    "                dicc_similitud_coseno[carpeta][nombre_documento] = 0\n",
    "            else:\n",
    "                pro_punto = producto_punto(vector_tf_idf_consultas,vector_tf_idf)\n",
    "                dicc_similitud_coseno[carpeta][nombre_documento] = (pro_punto/(modulo_doc*modulo_consulta))\n",
    "\n",
    "    return dicc_similitud_coseno"
   ]
  }
 ],
 "metadata": {
  "kernelspec": {
   "display_name": "Python (laboratorio1)",
   "language": "python",
   "name": "laboratorio1"
  }
 },
 "nbformat": 4,
 "nbformat_minor": 5
}
